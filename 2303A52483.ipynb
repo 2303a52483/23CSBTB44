{
  "nbformat": 4,
  "nbformat_minor": 0,
  "metadata": {
    "colab": {
      "provenance": [],
      "toc_visible": true,
      "include_colab_link": true
    },
    "kernelspec": {
      "name": "python3",
      "display_name": "Python 3"
    },
    "language_info": {
      "name": "python"
    }
  },
  "cells": [
    {
      "cell_type": "markdown",
      "metadata": {
        "id": "view-in-github",
        "colab_type": "text"
      },
      "source": [
        "<a href=\"https://colab.research.google.com/github/2303a52483/23CSBTB44/blob/main/2303A52483.ipynb\" target=\"_parent\"><img src=\"https://colab.research.google.com/assets/colab-badge.svg\" alt=\"Open In Colab\"/></a>"
      ]
    },
    {
      "cell_type": "code",
      "execution_count": null,
      "metadata": {
        "colab": {
          "base_uri": "https://localhost:8080/"
        },
        "id": "ZkyEXaIp3Lxm",
        "outputId": "792493ca-4264-494d-e092-af0e821a0439",
        "cellView": "form"
      },
      "outputs": [
        {
          "output_type": "stream",
          "name": "stdout",
          "text": [
            "   RowNumber  CustomerId   Surname  CreditScore Geography  Gender  Age  \\\n",
            "0          1    15634602  Hargrave          619    France  Female   42   \n",
            "1          2    15647311      Hill          608     Spain  Female   41   \n",
            "2          3    15619304      Onio          502    France  Female   42   \n",
            "3          4    15701354      Boni          699    France  Female   39   \n",
            "4          5    15737888  Mitchell          850     Spain  Female   43   \n",
            "\n",
            "   Tenure    Balance  NumOfProducts  HasCrCard  IsActiveMember  \\\n",
            "0       2       0.00              1          1               1   \n",
            "1       1   83807.86              1          0               1   \n",
            "2       8  159660.80              3          1               0   \n",
            "3       1       0.00              2          0               0   \n",
            "4       2  125510.82              1          1               1   \n",
            "\n",
            "   EstimatedSalary  Exited  \n",
            "0        101348.88       1  \n",
            "1        112542.58       0  \n",
            "2        113931.57       1  \n",
            "3         93826.63       0  \n",
            "4         79084.10       0  \n"
          ]
        }
      ],
      "source": [
        "# @title Default title text\n",
        "\n",
        "import pandas as pd\n",
        "import numpy as np\n",
        "d=pd.read_csv(\"/content/Churn_Modelling.csv\")\n",
        "print(d.head())"
      ]
    },
    {
      "cell_type": "code",
      "source": [
        "# @title Default title text\n",
        "X=d.drop(['Exited','Surname'],axis=1)\n",
        "mle_params={}\n",
        "y=d[\"Exited\"]\n",
        "print(\"target:\")\n",
        "print(y.head())\n",
        "print(\"shape:\",y.shape)\n",
        "print(\"features:\")\n",
        "print(X.head())"
      ],
      "metadata": {
        "colab": {
          "base_uri": "https://localhost:8080/"
        },
        "id": "UgzxIwY94G4r",
        "outputId": "f87102cd-857d-4aa9-bcea-47bf1f24d2ee",
        "cellView": "form"
      },
      "execution_count": null,
      "outputs": [
        {
          "output_type": "stream",
          "name": "stdout",
          "text": [
            "target:\n",
            "0    1\n",
            "1    0\n",
            "2    1\n",
            "3    0\n",
            "4    0\n",
            "Name: Exited, dtype: int64\n",
            "shape: (10000,)\n",
            "features:\n",
            "   RowNumber  CustomerId  CreditScore Geography  Gender  Age  Tenure  \\\n",
            "0          1    15634602          619    France  Female   42       2   \n",
            "1          2    15647311          608     Spain  Female   41       1   \n",
            "2          3    15619304          502    France  Female   42       8   \n",
            "3          4    15701354          699    France  Female   39       1   \n",
            "4          5    15737888          850     Spain  Female   43       2   \n",
            "\n",
            "     Balance  NumOfProducts  HasCrCard  IsActiveMember  EstimatedSalary  \n",
            "0       0.00              1          1               1        101348.88  \n",
            "1   83807.86              1          0               1        112542.58  \n",
            "2  159660.80              3          1               0        113931.57  \n",
            "3       0.00              2          0               0         93826.63  \n",
            "4  125510.82              1          1               1         79084.10  \n"
          ]
        }
      ]
    },
    {
      "cell_type": "code",
      "source": [
        "# @title Default title text\n",
        "S=X.replace({\"Female\":0,\"Male\":1,\"France\":0,\"Spain\":1,\"Germany\":2})\n",
        "print(S.head())"
      ],
      "metadata": {
        "colab": {
          "base_uri": "https://localhost:8080/"
        },
        "id": "hzKzqF4UBREf",
        "outputId": "d8635e05-637d-4758-cd04-3e39b56d5e77",
        "cellView": "form"
      },
      "execution_count": null,
      "outputs": [
        {
          "output_type": "stream",
          "name": "stdout",
          "text": [
            "   RowNumber  CustomerId  CreditScore  Geography  Gender  Age  Tenure  \\\n",
            "0          1    15634602          619          0       0   42       2   \n",
            "1          2    15647311          608          1       0   41       1   \n",
            "2          3    15619304          502          0       0   42       8   \n",
            "3          4    15701354          699          0       0   39       1   \n",
            "4          5    15737888          850          1       0   43       2   \n",
            "\n",
            "     Balance  NumOfProducts  HasCrCard  IsActiveMember  EstimatedSalary  \n",
            "0       0.00              1          1               1        101348.88  \n",
            "1   83807.86              1          0               1        112542.58  \n",
            "2  159660.80              3          1               0        113931.57  \n",
            "3       0.00              2          0               0         93826.63  \n",
            "4  125510.82              1          1               1         79084.10  \n"
          ]
        },
        {
          "output_type": "stream",
          "name": "stderr",
          "text": [
            "<ipython-input-8-f4d6de20bdb5>:1: FutureWarning: Downcasting behavior in `replace` is deprecated and will be removed in a future version. To retain the old behavior, explicitly call `result.infer_objects(copy=False)`. To opt-in to the future behavior, set `pd.set_option('future.no_silent_downcasting', True)`\n",
            "  S=X.replace({\"Female\":0,\"Male\":1,\"France\":0,\"Spain\":1,\"Germany\":2})\n"
          ]
        }
      ]
    },
    {
      "cell_type": "code",
      "source": [
        "# @title Default title text\n",
        "from sklearn.model_selection import train_test_split\n",
        "X_train, X_test, y_train, y_test = train_test_split(S, y , test_size=0.2, random_state=30)\n",
        "print(\"X_train:\",X_train)\n",
        "print(\"X_test:\",X_test)\n",
        "print(\"Y_train:\",y_train)\n",
        "print(\"Y_train:\",y_test)"
      ],
      "metadata": {
        "colab": {
          "base_uri": "https://localhost:8080/"
        },
        "id": "q1JD1dqo4QAN",
        "outputId": "e9f749cc-1f8c-486a-b6c1-21349afc8634",
        "cellView": "form"
      },
      "execution_count": null,
      "outputs": [
        {
          "output_type": "stream",
          "name": "stdout",
          "text": [
            "X_train:       RowNumber  CustomerId  CreditScore  Geography  Gender  Age  Tenure  \\\n",
            "2182       2183    15724889          665          1       1   38       9   \n",
            "5766       5767    15740846          556          0       1   40       5   \n",
            "2439       2440    15586976          566          0       0   42       6   \n",
            "993         994    15782899          661          1       0   28       7   \n",
            "7426       7427    15790630          619          0       0   48       4   \n",
            "...         ...         ...          ...        ...     ...  ...     ...   \n",
            "4859       4860    15647111          794          1       0   22       4   \n",
            "919         920    15733114          552          1       1   45       9   \n",
            "500         501    15727688          555          1       1   32       4   \n",
            "4517       4518    15787051          750          1       0   39       7   \n",
            "5925       5926    15783477          706          2       0   39       8   \n",
            "\n",
            "        Balance  NumOfProducts  HasCrCard  IsActiveMember  EstimatedSalary  \n",
            "2182       0.00              1          0               1         87412.74  \n",
            "5766  125909.85              1          1               1         95124.40  \n",
            "2439       0.00              1          1               0        180702.12  \n",
            "993    95357.49              1          0               0        102297.15  \n",
            "7426       0.00              1          0               0         18094.96  \n",
            "...         ...            ...        ...             ...              ...  \n",
            "4859  114440.24              1          1               1        107753.07  \n",
            "919        0.00              2          1               0         26752.56  \n",
            "500        0.00              2          1               1         54405.79  \n",
            "4517  119565.92              1          1               0         87067.73  \n",
            "5925  112889.91              1          0               1          6723.66  \n",
            "\n",
            "[8000 rows x 12 columns]\n",
            "X_test:       RowNumber  CustomerId  CreditScore  Geography  Gender  Age  Tenure  \\\n",
            "8793       8794    15574554          537          2       1   66       8   \n",
            "1122       1123    15789955          698          2       1   56       1   \n",
            "1283       1284    15609510          669          0       1   45       7   \n",
            "9318       9319    15611786          668          1       0   69       9   \n",
            "7765       7766    15613427          683          2       0   49       7   \n",
            "...         ...         ...          ...        ...     ...  ...     ...   \n",
            "7142       7143    15654859          612          1       0   63       2   \n",
            "8826       8827    15570194          412          0       1   29       5   \n",
            "4553       4554    15763613          581          0       1   30       1   \n",
            "5795       5796    15565891          709          0       1   39       8   \n",
            "3797       3798    15669887          839          0       0   51       3   \n",
            "\n",
            "        Balance  NumOfProducts  HasCrCard  IsActiveMember  EstimatedSalary  \n",
            "8793  103291.25              2          1               1        130664.79  \n",
            "1122  112414.81              2          0               0         93982.02  \n",
            "1283  149364.58              1          0               1        173454.07  \n",
            "9318       0.00              1          0               1        134483.07  \n",
            "7765  108797.63              2          0               0        140763.18  \n",
            "...         ...            ...        ...             ...              ...  \n",
            "7142  131629.17              2          1               0        122109.58  \n",
            "8826       0.00              2          0               0         12510.53  \n",
            "4553       0.00              2          1               0        199464.08  \n",
            "5795       0.00              2          1               0         56214.09  \n",
            "3797       0.00              1          1               1         69101.23  \n",
            "\n",
            "[2000 rows x 12 columns]\n",
            "Y_train: 2182    0\n",
            "5766    0\n",
            "2439    1\n",
            "993     0\n",
            "7426    1\n",
            "       ..\n",
            "4859    0\n",
            "919     0\n",
            "500     0\n",
            "4517    0\n",
            "5925    0\n",
            "Name: Exited, Length: 8000, dtype: int64\n",
            "Y_train: 8793    0\n",
            "1122    1\n",
            "1283    0\n",
            "9318    0\n",
            "7765    0\n",
            "       ..\n",
            "7142    1\n",
            "8826    0\n",
            "4553    0\n",
            "5795    0\n",
            "3797    1\n",
            "Name: Exited, Length: 2000, dtype: int64\n"
          ]
        }
      ]
    },
    {
      "cell_type": "code",
      "source": [
        "# @title Default title text\n",
        "from sklearn.linear_model import LogisticRegression\n",
        "ss = LogisticRegression()\n",
        "mm=ss.fit(X_train,y_train)\n",
        "print(\"coefficient:\",mm.coef_)\n",
        "print(\"intercept:\",mm.intercept_)"
      ],
      "metadata": {
        "id": "502AEhAF4y7E",
        "colab": {
          "base_uri": "https://localhost:8080/"
        },
        "outputId": "0720efe4-43d9-421b-9f27-aeda25e958ce",
        "cellView": "form"
      },
      "execution_count": null,
      "outputs": [
        {
          "output_type": "stream",
          "name": "stdout",
          "text": [
            "coefficient: [[-1.91806742e-05 -4.53381782e-08 -1.74528634e-03  9.14213574e-05\n",
            "  -5.72592741e-05  2.91347167e-03 -4.99245950e-05  4.85236948e-06\n",
            "  -7.89263870e-07 -2.64027657e-06 -7.33339049e-05  3.75860187e-07]]\n",
            "intercept: [1.73321555e-08]\n"
          ]
        },
        {
          "output_type": "stream",
          "name": "stderr",
          "text": [
            "/usr/local/lib/python3.11/dist-packages/sklearn/linear_model/_logistic.py:465: ConvergenceWarning: lbfgs failed to converge (status=1):\n",
            "STOP: TOTAL NO. of ITERATIONS REACHED LIMIT.\n",
            "\n",
            "Increase the number of iterations (max_iter) or scale the data as shown in:\n",
            "    https://scikit-learn.org/stable/modules/preprocessing.html\n",
            "Please also refer to the documentation for alternative solver options:\n",
            "    https://scikit-learn.org/stable/modules/linear_model.html#logistic-regression\n",
            "  n_iter_i = _check_optimize_result(\n"
          ]
        }
      ]
    },
    {
      "cell_type": "code",
      "source": [
        "# @title Default title text\n",
        "from sklearn.metrics import accuracy_score\n",
        "y_pred = mm.predict(X_train)\n",
        "print(\"accuracy:\",accuracy_score(y_train, y_pred))"
      ],
      "metadata": {
        "colab": {
          "base_uri": "https://localhost:8080/"
        },
        "id": "JyZVmvzR5bru",
        "outputId": "bb9b9fc4-7ec2-43fb-f80c-aa72eca9b0f7",
        "cellView": "form"
      },
      "execution_count": null,
      "outputs": [
        {
          "output_type": "stream",
          "name": "stdout",
          "text": [
            "accuracy: 0.799875\n"
          ]
        }
      ]
    }
  ]
}