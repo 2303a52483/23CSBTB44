{
  "nbformat": 4,
  "nbformat_minor": 0,
  "metadata": {
    "colab": {
      "provenance": [],
      "authorship_tag": "ABX9TyO1ky2BoO3HMHKnIejkngha",
      "include_colab_link": true
    },
    "kernelspec": {
      "name": "python3",
      "display_name": "Python 3"
    },
    "language_info": {
      "name": "python"
    }
  },
  "cells": [
    {
      "cell_type": "markdown",
      "metadata": {
        "id": "view-in-github",
        "colab_type": "text"
      },
      "source": [
        "<a href=\"https://colab.research.google.com/github/2303a52483/23CSBTB44/blob/main/2303A52483.ipynb\" target=\"_parent\"><img src=\"https://colab.research.google.com/assets/colab-badge.svg\" alt=\"Open In Colab\"/></a>"
      ]
    },
    {
      "cell_type": "code",
      "execution_count": 1,
      "metadata": {
        "colab": {
          "base_uri": "https://localhost:8080/"
        },
        "id": "bMUwl_cEAktA",
        "outputId": "ae63d0f0-ba98-4be7-ad4b-7a03d0b20115"
      },
      "outputs": [
        {
          "output_type": "stream",
          "name": "stdout",
          "text": [
            "[1 2 3 4 5]\n"
          ]
        }
      ],
      "source": [
        "import numpy as np\n",
        "arr=np.array([1,2,3,4,5])\n",
        "print(arr)"
      ]
    },
    {
      "cell_type": "code",
      "source": [
        "import numpy as np\n",
        "import pandas as pd\n",
        "list=np.array([1,2,3,4,5])\n",
        "list=pd.array([1,2,3,4,5])\n",
        "print(list)\n"
      ],
      "metadata": {
        "colab": {
          "base_uri": "https://localhost:8080/"
        },
        "id": "X2m5Ua5MFhk3",
        "outputId": "0a085c8e-7cfd-4395-bc5c-74aa0eeed18c"
      },
      "execution_count": 5,
      "outputs": [
        {
          "output_type": "stream",
          "name": "stdout",
          "text": [
            "<IntegerArray>\n",
            "[1, 2, 3, 4, 5]\n",
            "Length: 5, dtype: Int64\n"
          ]
        }
      ]
    },
    {
      "cell_type": "code",
      "source": [
        "list1=np.array([1,2,3,4])\n",
        "list2=np.array([2,4,6,8])\n",
        "mul=(list1*list2)\n",
        "print(mul)\n",
        "div=list1/list2\n",
        "print(div)\n",
        "print(np.power(list1,list2))\n",
        "print(list1+list2)"
      ],
      "metadata": {
        "colab": {
          "base_uri": "https://localhost:8080/"
        },
        "id": "A4m5Zc5vG4iA",
        "outputId": "12a1b2c8-aa80-49df-b799-f59cb21efd34"
      },
      "execution_count": 25,
      "outputs": [
        {
          "output_type": "stream",
          "name": "stdout",
          "text": [
            "[ 2  8 18 32]\n",
            "[0.5 0.5 0.5 0.5]\n",
            "[    1    16   729 65536]\n",
            "[ 3  6  9 12]\n"
          ]
        }
      ]
    },
    {
      "cell_type": "code",
      "source": [
        "print(np.sin(2))\n",
        "print(np.log(2))\n",
        "print(np.log2(2))\n",
        "print(np.exp(2))\n"
      ],
      "metadata": {
        "colab": {
          "base_uri": "https://localhost:8080/"
        },
        "id": "lI6q2vx6I2ay",
        "outputId": "8e5eebad-9f84-4fbf-a15e-fdbee61cd69c"
      },
      "execution_count": 24,
      "outputs": [
        {
          "output_type": "stream",
          "name": "stdout",
          "text": [
            "0.9092974268256817\n",
            "0.6931471805599453\n",
            "1.0\n",
            "7.38905609893065\n"
          ]
        }
      ]
    }
  ]
}