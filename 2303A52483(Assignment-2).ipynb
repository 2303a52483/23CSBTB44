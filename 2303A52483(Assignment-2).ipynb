{
  "nbformat": 4,
  "nbformat_minor": 0,
  "metadata": {
    "colab": {
      "provenance": [],
      "authorship_tag": "ABX9TyNlpNoxGU0J5sfOk/+oZhnQ",
      "include_colab_link": true
    },
    "kernelspec": {
      "name": "python3",
      "display_name": "Python 3"
    },
    "language_info": {
      "name": "python"
    }
  },
  "cells": [
    {
      "cell_type": "markdown",
      "metadata": {
        "id": "view-in-github",
        "colab_type": "text"
      },
      "source": [
        "<a href=\"https://colab.research.google.com/github/2303a52483/23CSBTB44/blob/main/2303A52483(Assignment-2).ipynb\" target=\"_parent\"><img src=\"https://colab.research.google.com/assets/colab-badge.svg\" alt=\"Open In Colab\"/></a>"
      ]
    },
    {
      "cell_type": "code",
      "execution_count": 3,
      "metadata": {
        "colab": {
          "base_uri": "https://localhost:8080/"
        },
        "id": "RgKnfw_7_tfl",
        "outputId": "ceb09c4a-a023-4392-9362-665a45ef3361"
      },
      "outputs": [
        {
          "output_type": "stream",
          "name": "stdout",
          "text": [
            "    name  age  height  weight\n",
            "0  kiran   25     134      45\n",
            "1   Arun   30     120      56\n",
            "2  vijay   35     190      34\n",
            "3   Arun   40     160      78\n"
          ]
        }
      ],
      "source": [
        "import pandas as pd\n",
        "people=[\"kiran\",\"Arun\",\"vijay\",\"Arun\"]\n",
        "age=[25,30,35,40]\n",
        "height=[134,120,190,160]\n",
        "weight=[45,56,34,78]\n",
        "data={\"name\":people,\"age\":age,\"height\":height,\"weight\":weight}\n",
        "df=pd.DataFrame(data)\n",
        "print(df)"
      ]
    }
  ]
}