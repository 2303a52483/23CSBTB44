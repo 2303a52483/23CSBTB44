{
  "nbformat": 4,
  "nbformat_minor": 0,
  "metadata": {
    "colab": {
      "provenance": [],
      "authorship_tag": "ABX9TyM2CCBUKO+stAonIgZlqVwO",
      "include_colab_link": true
    },
    "kernelspec": {
      "name": "python3",
      "display_name": "Python 3"
    },
    "language_info": {
      "name": "python"
    }
  },
  "cells": [
    {
      "cell_type": "markdown",
      "metadata": {
        "id": "view-in-github",
        "colab_type": "text"
      },
      "source": [
        "<a href=\"https://colab.research.google.com/github/2303a52483/23CSBTB44/blob/main/2303A52483(Assignment_3).ipynb\" target=\"_parent\"><img src=\"https://colab.research.google.com/assets/colab-badge.svg\" alt=\"Open In Colab\"/></a>"
      ]
    },
    {
      "cell_type": "code",
      "execution_count": null,
      "metadata": {
        "colab": {
          "base_uri": "https://localhost:8080/"
        },
        "id": "wyblBNJHKWtn",
        "outputId": "d9ef809b-958c-43c6-9d28-fee685f08d51"
      },
      "outputs": [
        {
          "output_type": "stream",
          "name": "stdout",
          "text": [
            "The adjacency List representing the graph is:\n",
            "{0: [1, 2, 3], 1: [0, 2], 2: [1, 3, 5], 3: [0, 2, 4], 4: [3, 5, 7], 5: [2, 4, 6, 7], 6: [5, 7], 7: []}\n",
            "BFS traversal of graph with source 1 is:\n",
            "1->0->2->3->5->4->6->7->"
          ]
        }
      ],
      "source": [
        "from queue import Queue\n",
        "graph = {0:[1,2,3,],\n",
        "         1:[0,2],\n",
        "         2:[1,3,5],\n",
        "         3:[0,2,4],\n",
        "         4:[3,5,7],\n",
        "         5:[2,4,6,7],\n",
        "         6:[5,7],\n",
        "         7:[]}\n",
        "\n",
        "print(\"The adjacency List representing the graph is:\")\n",
        "print(graph)\n",
        "\n",
        "def bfs(graph, source):\n",
        "  Q = Queue()\n",
        "  visited_vertices = set()\n",
        "  Q.put(source)\n",
        "  visited_vertices.update({source})\n",
        "  while not Q.empty():\n",
        "    vertex = Q.get()\n",
        "    print(vertex, end=\"->\")\n",
        "    for u in graph[vertex]:\n",
        "      if u not in visited_vertices:\n",
        "        Q.put(u)\n",
        "        visited_vertices.update({u})\n",
        "\n",
        "print(\"BFS traversal of graph with source 1 is:\")\n",
        "bfs(graph, 1)\n"
      ]
    },
    {
      "cell_type": "code",
      "source": [],
      "metadata": {
        "id": "sSIxPnHrPv1w"
      },
      "execution_count": null,
      "outputs": []
    },
    {
      "cell_type": "code",
      "source": [
        "graph1 = {\n",
        "'A': ['B','C','G'],\n",
        "'B': ['A'],\n",
        "'C': ['A','D','F'],\n",
        "'D': ['A','C','E','H'],\n",
        "'E': ['D','H','F'],\n",
        "'F': ['C','E'],\n",
        "'G': ['A','D','H'],\n",
        "'H': ['D','E','G']\n",
        "}\n",
        "\n",
        "def dfs(graph, node, visited):\n",
        "  if node not in visited:\n",
        "    visited.append(node)\n",
        "    for k in graph[node]:\n",
        "       dfs(graph,k, visited)\n",
        "  return visited\n",
        "\n",
        "visited = dfs(graph1,'B', [])\n",
        "\n",
        "print(visited)\n"
      ],
      "metadata": {
        "colab": {
          "base_uri": "https://localhost:8080/"
        },
        "id": "8hjAmC6yPx11",
        "outputId": "29e015f1-6dfc-4eca-f8c2-0b907e60dfdd"
      },
      "execution_count": null,
      "outputs": [
        {
          "output_type": "stream",
          "name": "stdout",
          "text": [
            "['B', 'A', 'C', 'D', 'E', 'H', 'G', 'F']\n"
          ]
        }
      ]
    },
    {
      "cell_type": "code",
      "source": [],
      "metadata": {
        "id": "bqtY3eePRZaz"
      },
      "execution_count": null,
      "outputs": []
    },
    {
      "cell_type": "code",
      "source": [
        "graph1 = {\n",
        "\n",
        "'A': ['B','C','G'],\n",
        "'B': ['A'],\n",
        "'C': ['A','D','F'],\n",
        "'D': ['A','C','E','H'],\n",
        "'E': ['D','H','F'], 'F': ['C','E'],\n",
        "'G': ['A','D', 'H'],\n",
        "'H': ['D','E','G']\n",
        "\n",
        "}\n",
        "def dfs(graph, node, visited):\n",
        "   if node not in visited:\n",
        "    visited.append(node)\n",
        "    for k in graph[node]:\n",
        "      dfs(graph,k, visited)\n",
        "    return visited\n",
        "visited = dfs(graph1,'B', [])\n",
        "print(visited)"
      ],
      "metadata": {
        "colab": {
          "base_uri": "https://localhost:8080/"
        },
        "id": "oMjTkgfdZccs",
        "outputId": "36fab076-e46e-4a01-f54c-bebdfd721225"
      },
      "execution_count": null,
      "outputs": [
        {
          "output_type": "stream",
          "name": "stdout",
          "text": [
            "['B', 'A', 'C', 'D', 'E', 'H', 'G', 'F']\n"
          ]
        }
      ]
    },
    {
      "cell_type": "code",
      "source": [
        "from copy import deepcopy\n",
        "import numpy as np\n",
        "import time\n",
        "def bestsolution(state):\n",
        "    bestsol=np.array([],int).reshape(-1,9)\n",
        "    count=len(state)-1\n",
        "    while count>=0:\n",
        "      bestsol=np.insert(bestsol, 0, state [count]['puzzle'],0)\n",
        "      count=state[count] ['parent']\n",
        "      return bestsol.reshape(-1,3,3)\n",
        "\n"
      ],
      "metadata": {
        "id": "4wCtoQR7SZf0"
      },
      "execution_count": null,
      "outputs": []
    },
    {
      "cell_type": "code",
      "source": [
        "\n",
        "def all(checkarray):\n",
        "  set=[]\n",
        "  for i in checkarray:\n",
        "    if i not in set:\n",
        "      set.append(i)\n",
        "  return set\n"
      ],
      "metadata": {
        "id": "ZcIFbu4hUOs6"
      },
      "execution_count": null,
      "outputs": []
    },
    {
      "cell_type": "code",
      "source": [
        "#number of misplaced tiles\n",
        "def misplaced_tiles(puzzle,goal):\n",
        "  mscost = np.sum(puzzle != goal) - 1\n",
        "  return mscost if mscost > 0 else 0\n",
        "def coordinates(puzzle):\n",
        "   pos = np.array(range(9))\n",
        "   for p, q in enumerate(puzzle):\n",
        "      pos[q] = p\n",
        "   return pos"
      ],
      "metadata": {
        "id": "OmwSaBqGaMYp"
      },
      "execution_count": null,
      "outputs": []
    },
    {
      "cell_type": "code",
      "source": [],
      "metadata": {
        "id": "5c5UZmvcbR_D"
      },
      "execution_count": null,
      "outputs": []
    },
    {
      "cell_type": "code",
      "source": [],
      "metadata": {
        "id": "8aALRRp7bXjW"
      },
      "execution_count": null,
      "outputs": []
    },
    {
      "cell_type": "code",
      "source": [
        "def evaluvate_misplaced (puzzle, goal):\n",
        "  steps = np.array([('up', [0, 1, 2], -3), ('down', [6, 7, 8], 3), ('left', [0, 3, 6], -1), ('right', [2, 5, 8], 1)], dtype = [('move', str, 1), ('position', list), ('head', int)])\n",
        "  dtstate = [('puzzle', list), ('parent', int), ('gn', int), ('hn', int)]\n",
        "  costg = coordinates(goal)\n",
        "  parent = -1\n",
        "  gn = 0\n",
        "  hn = misplaced_tiles(coordinates(puzzle), costg)\n",
        "  state = np.array([(puzzle, parent, gn, hn)], dtstate)"
      ],
      "metadata": {
        "id": "iraU2lMYbaFB"
      },
      "execution_count": null,
      "outputs": []
    },
    {
      "cell_type": "code",
      "source": [
        "dtpriority=[('position',int),('fn',int)\n",
        "priority = np.array([(0, hn)), dtpriority)\n",
        "while 1:\n",
        "            priority = np.sort(priority, kind='mergesort, order=['fn', 'position'])\n",
        "            position, fn priority[0]\n",
        "                               priority = np.delete(priority, 0, 0) puzzle, parent, gn, hn = state[position] puzzle = np.array(puzzle) blank = int(np.where(puzzle == 0)[0]) gn = gn + 1\n",
        "\n",
        "c=1\n",
        "\n",
        "start_time = time.time()\n",
        "\n",
        "for s in steps:\n",
        "\n",
        "c=c+1\n",
        "\n",
        "openstates = deepcopy(puzzle) openstates[blank], openstates[blank + s['head']] =\n",
        "\n",
        "print( The 8 puzzle is unsolvable \\n\")\n",
        "\n",
        "break\n",
        "\n",
        "hn = misplaced_tiles(coordinates(openstates)\n",
        "\n",
        "qnp.array([(openstates, position, gn, hn)], dtstate)\n",
        "\n",
        "state = np.append(state, q, 0)\n",
        "\n",
        "if blank not in s['position): openstates[blank + s['head']], openstates[blank] if(np.all(list(state['puzzle']) == openstates, 1)).any(): end_time time.time() if ((end time start_time) > 2):\n",
        "\n",
        "costg)\n",
        "\n",
        "#f(n) is the sum of cost to reach node\n",
        "\n",
        "fn = gn + hn\n",
        "\n",
        "q = np.array([(len(state)-1, fn)), dtpriority)\n",
        "\n",
        "priority = np.append(priority, q, 0)\n",
        "\n",
        "if np.array_equal(openstates, goal):\n",
        "\n",
        "print( The 8 puzzle is solvable \\n')\n",
        "\n",
        "return state, len(priority)\n",
        "\n",
        "return state, len(priority)"
      ],
      "metadata": {
        "id": "2gQwnJaLb93c"
      },
      "execution_count": null,
      "outputs": []
    }
  ]
}